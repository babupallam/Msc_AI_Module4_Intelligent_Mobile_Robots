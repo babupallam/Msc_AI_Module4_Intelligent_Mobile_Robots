{
  "nbformat": 4,
  "nbformat_minor": 0,
  "metadata": {
    "colab": {
      "provenance": []
    },
    "kernelspec": {
      "name": "python3",
      "display_name": "Python 3"
    },
    "language_info": {
      "name": "python"
    }
  },
  "cells": [
    {
      "cell_type": "markdown",
      "source": [
        "\n",
        "### **Question 1:** Calculate the Euclidean distance between two points: (3, 4) and (7, 1).\n",
        "\n"
      ],
      "metadata": {
        "id": "dYJgU0WJi4cg"
      }
    },
    {
      "cell_type": "code",
      "source": [
        "import math\n",
        "\n",
        "# Step 1: Define the coordinates of the points\n",
        "x1, y1 = 3, 4\n",
        "x2, y2 = 7, 1\n",
        "\n",
        "# Step 2: Calculate the Euclidean distance\n",
        "distance = math.sqrt((x2 - x1)**2 + (y2 - y1)**2)\n",
        "\n",
        "# Step 3: Print the result\n",
        "print(\"1) The Euclidean distance is:\", round(distance, 2), \"units\")\n"
      ],
      "metadata": {
        "colab": {
          "base_uri": "https://localhost:8080/"
        },
        "id": "VX9jBuwHi4cg",
        "outputId": "b9dd9c3b-00f6-4fcd-d639-16b21a69507d"
      },
      "execution_count": 1,
      "outputs": [
        {
          "output_type": "stream",
          "name": "stdout",
          "text": [
            "1) The Euclidean distance is: 5.0 units\n"
          ]
        }
      ]
    },
    {
      "cell_type": "markdown",
      "source": [
        "### **Question 2:** Convert the following angles into radians: 45°, 90°, 135°, 180°.\n",
        "\n"
      ],
      "metadata": {
        "id": "DNr6zvxGi4fM"
      }
    },
    {
      "cell_type": "code",
      "source": [
        "# Step 1: Define angles in degrees\n",
        "angles = [45, 90, 135, 180]\n",
        "\n",
        "# Step 2: Convert each angle to radians\n",
        "angles_in_radians = [math.radians(angle) for angle in angles]\n",
        "\n",
        "# Step 3: Print the results\n",
        "print(\"2) Angles in radians:\")\n",
        "for degree, radian in zip(angles, angles_in_radians):\n",
        "    print(f\"{degree}° = {round(radian, 2)} radians\")\n"
      ],
      "metadata": {
        "colab": {
          "base_uri": "https://localhost:8080/"
        },
        "id": "yYHSHz6Gi4fN",
        "outputId": "ce78d5f1-383e-470d-ec0f-31816f95649a"
      },
      "execution_count": 2,
      "outputs": [
        {
          "output_type": "stream",
          "name": "stdout",
          "text": [
            "2) Angles in radians:\n",
            "45° = 0.79 radians\n",
            "90° = 1.57 radians\n",
            "135° = 2.36 radians\n",
            "180° = 3.14 radians\n"
          ]
        }
      ]
    },
    {
      "cell_type": "markdown",
      "source": [
        "### **Question 3:** Find the midpoint between two points: (2, 5) and (8, 3).\n",
        "\n"
      ],
      "metadata": {
        "id": "LDeXenlui4ii"
      }
    },
    {
      "cell_type": "code",
      "source": [
        "# Step 1: Define the coordinates of the points\n",
        "x1, y1 = 2, 5\n",
        "x2, y2 = 8, 3\n",
        "\n",
        "# Step 2: Calculate the midpoint\n",
        "midpoint_x = (x1 + x2) / 2\n",
        "midpoint_y = (y1 + y2) / 2\n",
        "\n",
        "# Step 3: Print the result\n",
        "print(\"3) The midpoint is: (\", round(midpoint_x, 2), \",\", round(midpoint_y, 2), \")\")\n"
      ],
      "metadata": {
        "colab": {
          "base_uri": "https://localhost:8080/"
        },
        "id": "6ajAO-uVi4ij",
        "outputId": "d16a0273-d716-4e56-c8fa-db6cc06d1bf4"
      },
      "execution_count": 3,
      "outputs": [
        {
          "output_type": "stream",
          "name": "stdout",
          "text": [
            "3) The midpoint is: ( 5.0 , 4.0 )\n"
          ]
        }
      ]
    },
    {
      "cell_type": "markdown",
      "source": [
        "### **Question 4:** Calculate the area of a triangle with vertices at (0, 0), (5, 0), and (0, 7).\n",
        "\n"
      ],
      "metadata": {
        "id": "JV_64uzgi4Ya"
      }
    },
    {
      "cell_type": "code",
      "source": [
        "# Step 1: Define the vertices of the triangle\n",
        "x1, y1 = 0, 0\n",
        "x2, y2 = 5, 0\n",
        "x3, y3 = 0, 7\n",
        "\n",
        "# Step 2: Calculate the area using the formula\n",
        "area = abs(x1*(y2 - y3) + x2*(y3 - y1) + x3*(y1 - y2)) / 2\n",
        "\n",
        "# Step 3: Print the result\n",
        "print(\"4) The area of the triangle is:\", round(area, 2), \"square units\")\n"
      ],
      "metadata": {
        "colab": {
          "base_uri": "https://localhost:8080/"
        },
        "id": "vt2LL9fHi4Yb",
        "outputId": "e88a70b0-fd4e-4609-8423-b4c50acf399e"
      },
      "execution_count": 4,
      "outputs": [
        {
          "output_type": "stream",
          "name": "stdout",
          "text": [
            "4) The area of the triangle is: 17.5 square units\n"
          ]
        }
      ]
    },
    {
      "cell_type": "markdown",
      "source": [
        "### **Question 5:** Fit a linear trend line for data points: x = [1, 2, 3, 4, 5], y = [2, 4, 5, 4, 5].\n",
        "\n"
      ],
      "metadata": {
        "id": "9kltig2Hi4Up"
      }
    },
    {
      "cell_type": "code",
      "source": [
        "import matplotlib.pyplot as plt\n",
        "\n",
        "# Step 1: Define the data points\n",
        "x = [1, 2, 3, 4, 5]\n",
        "y = [2, 4, 5, 4, 5]\n",
        "\n",
        "# Step 2: Calculate means\n",
        "mean_x = sum(x) / len(x)\n",
        "mean_y = sum(y) / len(y)\n",
        "\n",
        "# Step 3: Calculate the slope (m) and intercept (c)\n",
        "numerator = sum((xi - mean_x) * (yi - mean_y) for xi, yi in zip(x, y))\n",
        "denominator = sum((xi - mean_x)**2 for xi in x)\n",
        "slope = numerator / denominator\n",
        "intercept = mean_y - slope * mean_x\n",
        "\n",
        "# Step 4: Generate the trend line\n",
        "trend_line = [slope * xi + intercept for xi in x]\n",
        "\n",
        "# Step 5: Plot the data and the trend line\n",
        "plt.scatter(x, y, label=\"Data Points\", color=\"blue\")\n",
        "plt.plot(x, trend_line, label=\"Trend Line\", color=\"red\")\n",
        "plt.xlabel(\"x\")\n",
        "plt.ylabel(\"y\")\n",
        "plt.legend()\n",
        "plt.title(\"Linear Trend Line\")\n",
        "plt.grid()\n",
        "plt.show()\n",
        "\n",
        "# Step 6: Print the equation of the line\n",
        "print(\"5) The equation of the trend line is: y =\", round(slope, 2), \"x +\", round(intercept, 2))\n"
      ],
      "metadata": {
        "colab": {
          "base_uri": "https://localhost:8080/",
          "height": 489
        },
        "id": "4KUuB5h5i4Us",
        "outputId": "5d945f98-f29d-4615-97c5-9902628609d6"
      },
      "execution_count": 5,
      "outputs": [
        {
          "output_type": "display_data",
          "data": {
            "text/plain": [
              "<Figure size 640x480 with 1 Axes>"
            ],
            "image/png": "[encoded data removed]"
          },
          "metadata": {}
        },
        {
          "output_type": "stream",
          "name": "stdout",
          "text": [
            "5) The equation of the trend line is: y = 0.6 x + 2.2\n"
          ]
        }
      ]
    },
    {
      "cell_type": "markdown",
      "source": [
        "### **Question 6:** Calculate the Pearson correlation coefficient for x = [1, 2, 3, 4, 5], y = [2, 4, 5, 4, 5].\n",
        "\n"
      ],
      "metadata": {
        "id": "bF_TNFrli7LL"
      }
    },
    {
      "cell_type": "code",
      "source": [
        "# Step 1: Define data points\n",
        "x = [1, 2, 3, 4, 5]\n",
        "y = [2, 4, 5, 4, 5]\n",
        "\n",
        "# Step 2: Calculate means\n",
        "mean_x = sum(x) / len(x)\n",
        "mean_y = sum(y) / len(y)\n",
        "\n",
        "# Step 3: Calculate numerator and denominators\n",
        "numerator = sum((xi - mean_x) * (yi - mean_y) for xi, yi in zip(x, y))\n",
        "denominator_x = math.sqrt(sum((xi - mean_x)**2 for xi in x))\n",
        "denominator_y = math.sqrt(sum((yi - mean_y)**2 for yi in y))\n",
        "\n",
        "# Step 4: Calculate the Pearson correlation coefficient\n",
        "pearson_coefficient = numerator / (denominator_x * denominator_y)\n",
        "\n",
        "# Step 5: Print the result\n",
        "print(\"6) The Pearson correlation coefficient is:\", round(pearson_coefficient, 2))\n"
      ],
      "metadata": {
        "colab": {
          "base_uri": "https://localhost:8080/"
        },
        "id": "c7eldQp2i3WO",
        "outputId": "b0a4b582-70b4-4e61-abfb-39da17f301d3"
      },
      "execution_count": 6,
      "outputs": [
        {
          "output_type": "stream",
          "name": "stdout",
          "text": [
            "6) The Pearson correlation coefficient is: 0.77\n"
          ]
        }
      ]
    },
    {
      "cell_type": "markdown",
      "source": [
        "### **Question 7:** Calculate the angle between two vectors: a = [2, 3], b = [4, 1].\n",
        "\n"
      ],
      "metadata": {
        "id": "z3E7Zcsui3_-"
      }
    },
    {
      "cell_type": "code",
      "source": [
        "# Step 1: Define the vectors\n",
        "a = [2, 3]\n",
        "b = [4, 1]\n",
        "\n",
        "# Step 2: Calculate dot product and magnitudes\n",
        "dot_product = sum(ai * bi for ai, bi in zip(a, b))\n",
        "magnitude_a = math.sqrt(sum(ai**2 for ai in a))\n",
        "magnitude_b = math.sqrt(sum(bi**2 for bi in b))\n",
        "\n",
        "# Step 3: Calculate the angle\n",
        "cos_theta = dot_product / (magnitude_a * magnitude_b)\n",
        "angle = math.degrees(math.acos(cos_theta))\n",
        "\n",
        "# Step 4: Print the result\n",
        "print(\"7) The angle between the vectors is:\", round(angle, 2), \"degrees\")\n"
      ],
      "metadata": {
        "colab": {
          "base_uri": "https://localhost:8080/"
        },
        "id": "nTzVEjWei3__",
        "outputId": "6bf2a45d-c442-41d6-d01d-e9be2e254972"
      },
      "execution_count": 7,
      "outputs": [
        {
          "output_type": "stream",
          "name": "stdout",
          "text": [
            "7) The angle between the vectors is: 42.27 degrees\n"
          ]
        }
      ]
    },
    {
      "cell_type": "markdown",
      "source": [
        "\n",
        "### **Question 8:** Calculate the centroid of a triangle with vertices at (1, 2), (3, 4), and (5, 0).\n",
        "\n"
      ],
      "metadata": {
        "id": "UnycdDM8i4JO"
      }
    },
    {
      "cell_type": "code",
      "source": [
        "# Step 1: Define the vertices\n",
        "x1, y1 = 1, 2\n",
        "x2, y2 = 3, 4\n",
        "x3, y3 = 5, 0\n",
        "\n",
        "# Step 2: Calculate the centroid\n",
        "centroid_x = (x1 + x2 + x3) / 3\n",
        "centroid_y = (y1 + y2 + y3) / 3\n",
        "\n",
        "# Step 3: Print the result\n",
        "print(\"8) The centroid of the triangle is: (\", round(centroid_x, 2), \",\", round(centroid_y, 2), \")\")\n"
      ],
      "metadata": {
        "colab": {
          "base_uri": "https://localhost:8080/"
        },
        "id": "HfUhVwiMi4JP",
        "outputId": "d17c56e7-17c5-4e30-bdb0-4fee72acd2d6"
      },
      "execution_count": 8,
      "outputs": [
        {
          "output_type": "stream",
          "name": "stdout",
          "text": [
            "8) The centroid of the triangle is: ( 3.0 , 2.0 )\n"
          ]
        }
      ]
    },
    {
      "cell_type": "markdown",
      "source": [
        "\n",
        "### **Question 9:** Find the slope of the line passing through points (2, 3) and (5, 7).\n",
        "\n"
      ],
      "metadata": {
        "id": "x39h6fQ_i4Nf"
      }
    },
    {
      "cell_type": "code",
      "source": [
        "# Step 1: Define the points\n",
        "x1, y1 = 2, 3\n",
        "x2, y2 = 5, 7\n",
        "\n",
        "# Step 2: Calculate the slope\n",
        "slope = (y2 - y1) / (x2 - x1)\n",
        "\n",
        "# Step 3: Print the result\n",
        "print(\"9) The slope of the line is:\", round(slope, 2))\n"
      ],
      "metadata": {
        "colab": {
          "base_uri": "https://localhost:8080/"
        },
        "id": "fF6bogvZi4Ng",
        "outputId": "dff59251-2d69-422e-f3cf-1881e5e8f9f7"
      },
      "execution_count": 9,
      "outputs": [
        {
          "output_type": "stream",
          "name": "stdout",
          "text": [
            "9) The slope of the line is: 1.33\n"
          ]
        }
      ]
    },
    {
      "cell_type": "markdown",
      "source": [
        "\n",
        "### **Question 10:** Calculate the magnitude of a vector v = [3, -4].\n",
        "\n"
      ],
      "metadata": {
        "id": "TSe_BwcQi4Q3"
      }
    },
    {
      "cell_type": "code",
      "source": [
        "# Step 1: Define the vector\n",
        "v = [3, -4]\n",
        "\n",
        "# Step 2: Calculate the magnitude\n",
        "magnitude = math.sqrt(sum(vi**2 for vi in v))\n",
        "\n",
        "# Step 3: Print the result\n",
        "print(\"10) The magnitude of the vector is:\", round(magnitude, 2))\n"
      ],
      "metadata": {
        "colab": {
          "base_uri": "https://localhost:8080/"
        },
        "id": "1CP7oZ6qi4Q3",
        "outputId": "cb2f2db8-573f-40ca-b805-fb1957644c1b"
      },
      "execution_count": 10,
      "outputs": [
        {
          "output_type": "stream",
          "name": "stdout",
          "text": [
            "10) The magnitude of the vector is: 5.0\n"
          ]
        }
      ]
    },
    {
      "cell_type": "code",
      "source": [],
      "metadata": {
        "id": "-Nr1Gngpjl40"
      },
      "execution_count": 10,
      "outputs": []
    }
  ]
}