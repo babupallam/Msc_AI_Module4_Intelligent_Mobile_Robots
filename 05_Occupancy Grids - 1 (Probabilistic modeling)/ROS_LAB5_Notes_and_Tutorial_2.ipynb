{
  "nbformat": 4,
  "nbformat_minor": 0,
  "metadata": {
    "colab": {
      "provenance": []
    },
    "kernelspec": {
      "name": "python3",
      "display_name": "Python 3"
    },
    "language_info": {
      "name": "python"
    }
  },
  "cells": [
    {
      "cell_type": "markdown",
      "source": [
        "\n",
        "Here are **three more tests** you can implement in the same way as the provided obstacle avoidance logic, each testing different aspects of robot behavior or functionality. These tests will extend the functionality of your obstacle avoidance system.\n",
        "\n",
        "---\n",
        "\n",
        "### **Test 1: Wall Following Behavior**\n",
        "\n",
        "#### **Objective**\n",
        "The robot should follow a wall on its left side while maintaining a safe distance.\n",
        "\n",
        "#### **Python Script**\n",
        "```python\n",
        "#!/usr/bin/env python\n",
        "\n",
        "import rospy\n",
        "from sensor_msgs.msg import LaserScan\n",
        "from geometry_msgs.msg import Twist\n",
        "\n",
        "def callback(msg):\n",
        "    # Define the target distance to maintain from the wall\n",
        "    target_distance = 0.5\n",
        "\n",
        "    # Get the distance from the left side (90° in LaserScan)\n",
        "    left_distance = msg.ranges[90]\n",
        "\n",
        "    if left_distance > target_distance:\n",
        "        # Too far from the wall: Turn left\n",
        "        move.linear.x = 0.2  # Move forward\n",
        "        move.angular.z = 0.3  # Turn left\n",
        "    elif left_distance < target_distance:\n",
        "        # Too close to the wall: Turn right\n",
        "        move.linear.x = 0.2  # Move forward\n",
        "        move.angular.z = -0.3  # Turn right\n",
        "    else:\n",
        "        # Maintain the distance: Move forward\n",
        "        move.linear.x = 0.5\n",
        "        move.angular.z = 0.0\n",
        "\n",
        "    pub.publish(move)\n",
        "\n",
        "# Initialize ROS node\n",
        "rospy.init_node('wall_following')\n",
        "\n",
        "# Create a subscriber to the /scan topic for LaserScan data\n",
        "sub = rospy.Subscriber('/scan', LaserScan, callback)\n",
        "\n",
        "# Create a publisher to the /cmd_vel topic for velocity commands\n",
        "pub = rospy.Publisher('/cmd_vel', Twist, queue_size=10)\n",
        "\n",
        "# Initialize Twist message\n",
        "move = Twist()\n",
        "\n",
        "# Keep the node running\n",
        "rospy.spin()\n",
        "```\n",
        "\n",
        "#### **Execution**\n",
        "1. Save the script as `wall_following.py`.\n",
        "2. Make it executable:\n",
        "   ```bash\n",
        "   chmod +x wall_following.py\n",
        "   ```\n",
        "3. Run the script:\n",
        "   ```bash\n",
        "   rosrun <your_package_name> wall_following.py\n",
        "   ```\n",
        "\n",
        "---\n"
      ],
      "metadata": {
        "id": "82VEZNWwkmfd"
      }
    },
    {
      "cell_type": "markdown",
      "source": [
        "Note:\n",
        "  - not optimized\n",
        "  - not working\n",
        "  "
      ],
      "metadata": {
        "id": "MA8cXG6akmh9"
      }
    },
    {
      "cell_type": "markdown",
      "source": [
        "---\n",
        "---\n",
        "---"
      ],
      "metadata": {
        "id": "VXOrCPb6kmkw"
      }
    },
    {
      "cell_type": "markdown",
      "source": [
        "\n",
        "### **Test 2: Circular Path Movement**\n",
        "\n",
        "#### **Objective**\n",
        "The robot should move in a circular path without relying on sensor data.\n",
        "\n",
        "#### **Python Script**\n",
        "```python\n",
        "#!/usr/bin/env python\n",
        "\n",
        "import rospy\n",
        "from geometry_msgs.msg import Twist\n",
        "\n",
        "def circular_motion():\n",
        "    # Initialize ROS node\n",
        "    rospy.init_node('circular_motion', anonymous=True)\n",
        "\n",
        "    # Create a publisher for /cmd_vel\n",
        "    cmd_vel_pub = rospy.Publisher('/cmd_vel', Twist, queue_size=10)\n",
        "\n",
        "    # Initialize the Twist message\n",
        "    move_cmd = Twist()\n",
        "    move_cmd.linear.x = 0.5  # Forward speed\n",
        "    move_cmd.angular.z = 0.5  # Rotational speed for circular motion\n",
        "\n",
        "    rate = rospy.Rate(10)  # Set the loop rate to 10 Hz\n",
        "\n",
        "    while not rospy.is_shutdown():\n",
        "        cmd_vel_pub.publish(move_cmd)  # Publish the motion command\n",
        "        rate.sleep()\n",
        "\n",
        "if __name__ == '__main__':\n",
        "    try:\n",
        "        circular_motion()\n",
        "    except rospy.ROSInterruptException:\n",
        "        pass\n",
        "```\n",
        "\n",
        "#### **Execution**\n",
        "1. Save the script as `circular_motion.py`.\n",
        "2. Make it executable:\n",
        "   ```bash\n",
        "   chmod +x circular_motion.py\n",
        "   ```\n",
        "3. Run the script:\n",
        "   ```bash\n",
        "   rosrun <your_package_name> circular_motion.py\n",
        "   ```\n",
        "\n",
        "---\n"
      ],
      "metadata": {
        "id": "p6EOuwdpkmnj"
      }
    },
    {
      "cell_type": "markdown",
      "source": [],
      "metadata": {
        "id": "Km7gK5FKkmqN"
      }
    },
    {
      "cell_type": "markdown",
      "source": [],
      "metadata": {
        "id": "n8RlsILUkms-"
      }
    },
    {
      "cell_type": "markdown",
      "source": [
        "---\n",
        "---\n",
        "---"
      ],
      "metadata": {
        "id": "MsJBT3Qmkmvg"
      }
    },
    {
      "cell_type": "markdown",
      "source": [
        "\n",
        "### **Test 3: Emergency Stop**\n",
        "\n",
        "#### **Objective**\n",
        "The robot should stop immediately if an obstacle is detected within 0.3 meters in any direction.\n",
        "\n",
        "#### **Python Script**\n",
        "```python\n",
        "#!/usr/bin/env python\n",
        "\n",
        "import rospy\n",
        "from sensor_msgs.msg import LaserScan\n",
        "from geometry_msgs.msg import Twist\n",
        "\n",
        "def callback(msg):\n",
        "    # Check for any obstacles within 0.3 meters\n",
        "    if min(msg.ranges) < 0.3:\n",
        "        # Stop the robot\n",
        "        move.linear.x = 0.0\n",
        "        move.angular.z = 0.0\n",
        "    else:\n",
        "        # Move forward if no obstacles are close\n",
        "        move.linear.x = 0.5\n",
        "        move.angular.z = 0.0\n",
        "\n",
        "    pub.publish(move)\n",
        "\n",
        "# Initialize ROS node\n",
        "rospy.init_node('emergency_stop')\n",
        "\n",
        "# Subscribe to the /scan topic for LaserScan data\n",
        "sub = rospy.Subscriber('/scan', LaserScan, callback)\n",
        "\n",
        "# Create a publisher to the /cmd_vel topic for velocity commands\n",
        "pub = rospy.Publisher('/cmd_vel', Twist, queue_size=10)\n",
        "\n",
        "# Initialize Twist message\n",
        "move = Twist()\n",
        "\n",
        "# Keep the node running\n",
        "rospy.spin()\n",
        "```\n",
        "\n",
        "#### **Execution**\n",
        "1. Save the script as `emergency_stop.py`.\n",
        "2. Make it executable:\n",
        "   ```bash\n",
        "   chmod +x emergency_stop.py\n",
        "   ```\n",
        "3. Run the script:\n",
        "   ```bash\n",
        "   rosrun <your_package_name> emergency_stop.py\n",
        "   ```\n",
        "\n",
        "---\n",
        "\n",
        "### **Summary of Tests**\n",
        "\n",
        "1. **Wall Following**:\n",
        "   - Ensures the robot can follow a wall on its left side while maintaining a safe distance.\n",
        "\n",
        "2. **Circular Path Movement**:\n",
        "   - Demonstrates the robot's ability to move in a predefined circular trajectory without sensor input.\n",
        "\n",
        "3. **Emergency Stop**:\n",
        "   - Implements a safety mechanism that halts the robot immediately upon detecting an obstacle within a critical range.\n",
        "\n",
        "Each of these tests provides a unique behavior for the TurtleBot3 and helps demonstrate the use of LaserScan data, Twist messages, and ROS functionality. Let me know if you’d like more advanced examples!"
      ],
      "metadata": {
        "id": "T6YAfjVokmyN"
      }
    },
    {
      "cell_type": "markdown",
      "source": [],
      "metadata": {
        "id": "nrx6UIAFkm1t"
      }
    },
    {
      "cell_type": "markdown",
      "source": [
        "\n"
      ],
      "metadata": {
        "id": "hZS1DHhzkrYy"
      }
    },
    {
      "cell_type": "markdown",
      "source": [],
      "metadata": {
        "id": "oPCt5RtBkrYz"
      }
    },
    {
      "cell_type": "markdown",
      "source": [
        "---\n",
        "---\n",
        "---"
      ],
      "metadata": {
        "id": "XXr0pMlZkrY0"
      }
    },
    {
      "cell_type": "markdown",
      "source": [],
      "metadata": {
        "id": "gHiM11lbkrY0"
      }
    },
    {
      "cell_type": "markdown",
      "source": [],
      "metadata": {
        "id": "HC5V0AmRkrY0"
      }
    },
    {
      "cell_type": "markdown",
      "source": [],
      "metadata": {
        "id": "1rz7cv1bkrY1"
      }
    },
    {
      "cell_type": "markdown",
      "source": [
        "---\n",
        "---\n",
        "---"
      ],
      "metadata": {
        "id": "QsAw5Kn8krY1"
      }
    },
    {
      "cell_type": "markdown",
      "source": [],
      "metadata": {
        "id": "nDPerTbEkrY1"
      }
    },
    {
      "cell_type": "markdown",
      "source": [],
      "metadata": {
        "id": "xvZNqaUUkrY2"
      }
    },
    {
      "cell_type": "markdown",
      "source": [
        "\n"
      ],
      "metadata": {
        "id": "zuW07Famkrf6"
      }
    },
    {
      "cell_type": "markdown",
      "source": [],
      "metadata": {
        "id": "NZff1sPvkrf6"
      }
    },
    {
      "cell_type": "markdown",
      "source": [
        "---\n",
        "---\n",
        "---"
      ],
      "metadata": {
        "id": "m647YBXmkrf6"
      }
    },
    {
      "cell_type": "markdown",
      "source": [],
      "metadata": {
        "id": "gyESlL75krf7"
      }
    },
    {
      "cell_type": "markdown",
      "source": [],
      "metadata": {
        "id": "4lVRFBeUkrf7"
      }
    },
    {
      "cell_type": "markdown",
      "source": [],
      "metadata": {
        "id": "Jk1Yv2Bskrf7"
      }
    },
    {
      "cell_type": "markdown",
      "source": [
        "---\n",
        "---\n",
        "---"
      ],
      "metadata": {
        "id": "okBMRH5kkrf7"
      }
    },
    {
      "cell_type": "markdown",
      "source": [],
      "metadata": {
        "id": "1v3Bc_Exkrf8"
      }
    },
    {
      "cell_type": "markdown",
      "source": [],
      "metadata": {
        "id": "dlRzHuUbkrf8"
      }
    },
    {
      "cell_type": "markdown",
      "source": [
        "\n"
      ],
      "metadata": {
        "id": "F7SCmDHTkrls"
      }
    },
    {
      "cell_type": "markdown",
      "source": [],
      "metadata": {
        "id": "k9QSNjzkkrls"
      }
    },
    {
      "cell_type": "markdown",
      "source": [
        "---\n",
        "---\n",
        "---"
      ],
      "metadata": {
        "id": "QG2bzZyOkrls"
      }
    },
    {
      "cell_type": "markdown",
      "source": [],
      "metadata": {
        "id": "U804G73xkrlt"
      }
    },
    {
      "cell_type": "markdown",
      "source": [],
      "metadata": {
        "id": "AaxlwPKakrlt"
      }
    },
    {
      "cell_type": "markdown",
      "source": [],
      "metadata": {
        "id": "MreBZheAkrlt"
      }
    },
    {
      "cell_type": "markdown",
      "source": [
        "---\n",
        "---\n",
        "---"
      ],
      "metadata": {
        "id": "W1OVeVKMkrlt"
      }
    },
    {
      "cell_type": "markdown",
      "source": [],
      "metadata": {
        "id": "OdEXeUf2krlt"
      }
    },
    {
      "cell_type": "markdown",
      "source": [],
      "metadata": {
        "id": "64IgZCYDkrlt"
      }
    }
  ]
}